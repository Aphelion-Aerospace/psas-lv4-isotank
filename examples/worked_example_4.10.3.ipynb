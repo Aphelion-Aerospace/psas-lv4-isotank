{
 "cells": [
  {
   "cell_type": "markdown",
   "metadata": {},
   "source": [
    "# End Cap\n"
   ]
  },
  {
   "cell_type": "code",
   "execution_count": 5,
   "metadata": {
    "scrolled": false
   },
   "outputs": [
    {
     "name": "stdout",
     "output_type": "stream",
     "text": [
      "\n",
      "Mx 809.190 lb in\n",
      "\n",
      "k1: 28.765\n",
      "k2: 4.252\n",
      "\n",
      "Section Moduli\n",
      "S1: -4.794*t^2\n",
      "S2:  0.709*t^2\n",
      "\n",
      "t^2 = 0.0127\n",
      "t = 0.1126\n",
      "d = 1.1264\n",
      "b = 0.1126\n",
      "h = 5.6318\n",
      "a = 6.5030\n",
      "\n",
      "Checking Skin Stress\n",
      "Skin Stress 13304.348 psi\n",
      "Skin Crit Stress 35553.170 psi\n",
      "Success! Skin Stress is less than Critical Stress\n"
     ]
    }
   ],
   "source": [
    "import math\n",
    "# Worked from 4.10.3, on pages 4.10.010 - 4.10.011\n",
    "\n",
    "# Inputs\n",
    "R = 36.0\n",
    "q = 3.0\n",
    "delta = 10\n",
    "alpha = 0.2\n",
    "flanges = False\n",
    "\n",
    "# Material properties\n",
    "E = 10.7*10**6 # Young's Modules\n",
    "F_tu = 60.0 # Ultimate Tensile Strength - ksi\n",
    "nu = 0.33\n",
    "\n",
    "# Find Maximum Stress at Center of the Plate\n",
    "Mx = (3 + nu)/16*q*R**2 # lb-in\n",
    "print('\\nMx {:5.3f} lb in'.format(Mx))\n",
    "\n",
    "# Note: The example uses the tables to find k1 and k2. Since we have somewhat\n",
    "# more compute power than the 1960s, we just solve directly\n",
    "if flanges == False:\n",
    "    beta = (3*alpha*(1+delta)**2+(1+alpha)*(1+alpha*delta**2))**0.5\n",
    "k1 = beta**2/(2*alpha+alpha*delta+1)\n",
    "k2 = beta**2/(2*delta+alpha*delta+1)\n",
    "\n",
    "print('\\nk1: {:5.3f}'.format(k1))\n",
    "print('k2: {:5.3f}'.format(k2))\n",
    "\n",
    "print('\\nSection Moduli')\n",
    "print('S1: -{:5.3f}*t^2'.format(k1/6.0))\n",
    "print('S2:  {:5.3f}*t^2'.format(k2/6.0))\n",
    "\n",
    "# sigma = - 1 / S1 * Mx (4.10.13)\n",
    "\n",
    "t_squared = (2/3)*Mx/(k2/6.0*F_tu*1000)\n",
    "t = t_squared**0.5\n",
    "print('\\nt^2 = {:5.4f}'.format(t_squared))\n",
    "print('t = {:5.4f}'.format(t))\n",
    "d = delta*t\n",
    "print('d = {:5.4f}'.format(d))\n",
    "\n",
    "b = d/10 # Assumption made for example\n",
    "print('b = {:5.4f}'.format(b))\n",
    "\n",
    "h = delta/alpha*b\n",
    "print('h = {:5.4f}'.format(h))\n",
    "\n",
    "# Grid Size\n",
    "a = h/math.sin(math.pi/3)\n",
    "print('a = {:5.4f}'.format(a))\n",
    "\n",
    "# Check Skin Stresses\n",
    "# Assumes skin in is compresssion (buckling)\n",
    "S1 = -(k1/6)*t**2\n",
    "sigma_skin = - Mx/S1\n",
    "sigma_crit = (math.pi**2)/(1-nu**2)*E*(t/a)**2\n",
    "print('\\nChecking Skin Stress')\n",
    "print('Skin Stress {:5.3f} psi'.format(sigma_skin))\n",
    "print('Skin Crit Stress {:5.3f} psi'.format(sigma_crit))\n",
    "\n",
    "if sigma_skin < sigma_crit :\n",
    "    print('Success! Skin Stress is less than Critical Stress')\n",
    "else:\n",
    "    print('WARNING! Skin Stress is greater than Critical Stress!')"
   ]
  },
  {
   "cell_type": "code",
   "execution_count": null,
   "metadata": {},
   "outputs": [],
   "source": []
  }
 ],
 "metadata": {
  "kernelspec": {
   "display_name": "Python 3",
   "language": "python",
   "name": "python3"
  },
  "language_info": {
   "codemirror_mode": {
    "name": "ipython",
    "version": 3
   },
   "file_extension": ".py",
   "mimetype": "text/x-python",
   "name": "python",
   "nbconvert_exporter": "python",
   "pygments_lexer": "ipython3",
   "version": "3.7.4"
  }
 },
 "nbformat": 4,
 "nbformat_minor": 2
}
