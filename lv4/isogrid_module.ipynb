{
 "cells": [
  {
   "cell_type": "markdown",
   "metadata": {},
   "source": [
    "# Isogrid Module Design for the LV4 Sub-Orbital Rocket\n",
    "## Motivation\n",
    "PSAS has used carbon fiber composites for generations of rockets. The introduction of isogrid aluminum pressure vessels has granted the impetus to examine isogrid's application as a general structural component. The goal is to have a design that is manufacturable by the amatuer group, but has a mass close to composite designs.\n",
    "\n",
    "## Design Choices\n",
    "### Material\n",
    "For simplicity, the tank is built from a tube or pipe, eliminating the need to weld the length of the tank. The downside is that this limits the material options to what can be obtained off the shelf. A quick survey of choices found the following options, all made from 6061-T6. Note, material prices as of 2020/10\n",
    "\n",
    "| ID (in) | Wall (in) | OD (in) | Type | Price/Ft | Source |\n",
    "|---------|-----------|---------|------|----------|--------|\n",
    "| 10.02 | 0.365 | 10.75 | Pipe | 270.01 | [Online Metals](https://www.onlinemetals.com/en/buy/aluminum/10-nom-schedule-40-aluminum-pipe-6061-t6-extruded/pid/10619)|\n",
    "| 10.02 | 0.365 | 10.75 | Pipe | 64.33 | [Midwest Steel & Al*](https://www.midweststeelsupply.com/store/6061aluminumpipe)|\n",
    "| 10.50 | 0.750 | 12.00 | Tube | 826.71 | [Online Metals](https://www.onlinemetals.com/en/buy/aluminum/12-od-x-0-75-wall-x-10-5-id-aluminum-round-tube-6061-t6-extruded-aluminum-association-in-/pid/21986)|\n",
    "| 11.00 | 0.500 | 12.00 | Tube | 678.12 | [Metals Depot](https://www.metalsdepot.com/search?q=T3R12500)\n",
    "| 11.50 | 0.250 | 12.00 | Tube | 181.63 | [Online Metals](https://www.onlinemetals.com/en/buy/aluminum/12-od-x-0-25-wall-x-11-5-id-aluminum-round-tube-6061-t6-extruded/pid/23929)|\n",
    "| 12.00 | 0.375 | 12.75 | Pipe | 85.10 | [Midwest Steel & Al*](https://www.midweststeelsupply.com/store/6061aluminumpipe)|\n",
    "\n",
    "*For Midwest Steel and Al, material is considered raw and can have light scratches\n",
    "\n",
    "Other sizes appear to be available from [Vita Needle](https://www.vitaneedle.com/aluminum-tube/) but quotes have to be requested.\n",
    "\n",
    "6061-T6 is a an acceptable choice as it has reasonable strength, weldability and LOX compatibility. The 11.5 in inner diameter (ID) pipe was selected as it's closest to the initial LV4 multi-disciplinary design targets and least expensive option.\n",
    "\n",
    "For initial estimates, a total tank length of 48\" is assumed. This fits with available manufacuring possibilities."
   ]
  },
  {
   "cell_type": "code",
   "execution_count": 1,
   "metadata": {},
   "outputs": [],
   "source": [
    "# Stock properties\n",
    "grid_id = 11.5     # in\n",
    "grid_wall_t = 0.21  # in\n",
    "grid_od = grid_id+2*grid_wall_t # in\n",
    "grid_r = grid_od/2   # in\n",
    "grid_length = 21.24144  # in\n",
    "\n",
    "# Material properties for Al 6061-T6\n",
    "E_Si = 69.0 # Young's Modules, GPa\n",
    "density = 0.0975 #lb/in^3\n",
    "E = 10e6 # psi\n",
    "S_y = 40e3 # Yield Tensile Strength - psi\n",
    "S_u = 45e3 # Ultimate Tensile Strength - psi\n",
    "\n",
    "nu = 0.33 # Poisson's Ratio\n"
   ]
  },
  {
   "cell_type": "markdown",
   "metadata": {},
   "source": [
    "### Safety Factor\n",
    "Minimum safety factor for Base 11 is 1.5 (see requirement 3.2.4.15)"
   ]
  },
  {
   "cell_type": "code",
   "execution_count": 2,
   "metadata": {},
   "outputs": [],
   "source": [
    "safety_factor = 1.5"
   ]
  },
  {
   "cell_type": "markdown",
   "metadata": {},
   "source": [
    "\n",
    "### Pattern size\n",
    "For optimal strength and to maintain isotropic properties, the isogrid cells need to wrap around the tank diameter in integer increments. Twenty four cells was chosen as a starting point."
   ]
  },
  {
   "cell_type": "code",
   "execution_count": 3,
   "metadata": {},
   "outputs": [
    {
     "name": "stdout",
     "output_type": "stream",
     "text": [
      "Pattern Size: 3.12065\n",
      "Pattern Height: 2.70256\n"
     ]
    }
   ],
   "source": [
    "import math\n",
    "num_radial_divisions = 12\n",
    "pattern_size = grid_od*math.pi/num_radial_divisions\n",
    "pattern_height = pattern_size*(3**(1/2))/2\n",
    "print('Pattern Size: {:5.5f}'.format(pattern_size))\n",
    "print('Pattern Height: {:5.5f}'.format(pattern_height))\n"
   ]
  },
  {
   "cell_type": "markdown",
   "metadata": {},
   "source": [
    "### Design Properties\n",
    "\n",
    "from \"Isogrid Definitions\", page viii\n",
    "\n",
    "**Design choices:**<br>\n",
    "t: skin thickness; &emsp;&emsp; minimum 0.02\" per Peter<br> \n",
    "b: rib width; &emsp;&emsp;&emsp;&emsp;  min 0.03\" per Peter<br>\n",
    "d: rib depth; &emsp;&emsp;&emsp;&emsp; calculated from OD minus skin<br>\n",
    "c: flange depth<br>\n",
    "w: flange width<br>\n",
    "s: plate thickness of unflanged isogrid<br>\n",
    "h: triangle height<br>\n",
    "a: triangle leg length (center to center along pattern)<br><br>\n",
    "\n",
    "**Non-dimensional parameters:**<br>\n",
    "δ: rib width to skin thickness ratio <br>\n",
    "λ: flange depth to skin thickness ratio<br>\n",
    "α: rib cross section to skin cross section ratio<br>\n",
    "μ: flange cross section to skin cross section ratio<br>\n",
    "β^2 = bending stiffness parameter<br><br>\n",
    "\n",
    "**Equivalent material properties:**<br>\n",
    "t_eff = equivalent thickness for membrane stresses<br>\n",
    "t_bar = equivalent weight thickness <br>\n",
    "t_star = equivalent monocoque thickness<br>\n",
    "E_star = equivalent monocoque Young's modulus<br><br>\n",
    "\n",
    "**Stiffness coefficients:**<br>\n",
    "K: extensional stiffness<br>\n",
    "D: bending stiffness<br>\n",
    "I: moment of inertia\n"
   ]
  },
  {
   "cell_type": "code",
   "execution_count": 4,
   "metadata": {},
   "outputs": [],
   "source": [
    "#Design choices\n",
    "t = 0.02\n",
    "b = 0.03\n",
    "d = grid_wall_t-t\n",
    "c = 0.0\n",
    "w = 0.0\n",
    "s = t + d\n",
    "h = pattern_height\n",
    "a = pattern_size\n",
    "\n",
    "# non dimensional terms α λ μ δ β\n",
    "δ = d/t\n",
    "λ = c/t\n",
    "α = b*d/t/h\n",
    "μ = w*c/t/h\n",
    "β_squared = (1+α+μ)*(3*(1+δ)**2+3*μ*(1+λ)**2+1+α*δ**2+μ*λ**2) - 3*(1+δ-μ*(1+λ))**2\n",
    "β = β_squared**(1/2)\n",
    "\n",
    "#Equivalent properties\n",
    "t_eff = t*(1+α+μ)\n",
    "t_bar = t*(1+3*(α+μ))\n",
    "t_star = t*β/(1+α+μ)\n",
    "E_star = E*(1+α+μ)**2/β\n",
    "\n",
    "#stiffness parameters\n",
    "K = E_star*t_star/(1-nu**2)\n",
    "D = E_star*t_star**3/(12*(1-nu**2))\n",
    "#I = (1+α+μ)*(3*(1+δ)**2+3*μ*(1+λ)**2+1+α*δ**2+μ*λ**2)-3*(1+δ-μ*(1+λ))**2\n",
    "#I_beta = t_star**3*β_squared/(12*(1+α+μ))"
   ]
  },
  {
   "cell_type": "markdown",
   "metadata": {},
   "source": [
    "## Tank Properties\n",
    "The isogrid properties are calculated from NASA CR-124075"
   ]
  },
  {
   "cell_type": "code",
   "execution_count": 5,
   "metadata": {
    "scrolled": true
   },
   "outputs": [
    {
     "name": "stdout",
     "output_type": "stream",
     "text": [
      "Web non-dimensional ratio, Alpha: 0.105\n",
      "Rib depth to skin thickness, Delta: 9.500\n",
      "Bending stiffness parameter, Beta: 6.820\n",
      "Skin thickness, t: 0.020 in\n",
      "Effective thickness, t_eff: 0.022 in\n",
      "Equivalant monocoque thickness, t*: 0.123 in\n",
      "Equivalant weight thickness, t_bar: 0.026 in\n",
      "Equivalant monocoque Young's Modulus, E*: 1791961.057 psi\n"
     ]
    }
   ],
   "source": [
    "print('Web non-dimensional ratio, Alpha: {:5.3f}'.format(α))\n",
    "print('Rib depth to skin thickness, Delta: {:5.3f}'.format(δ))\n",
    "print('Bending stiffness parameter, Beta: {:5.3f}'.format(β))\n",
    "print('Skin thickness, t: {:5.3f} in'.format(t))\n",
    "print('Effective thickness, t_eff: {:5.3f} in'.format(t_eff))\n",
    "print('Equivalant monocoque thickness, t*: {:5.3f} in'.format(t_star))\n",
    "print('Equivalant weight thickness, t_bar: {:5.3f} in'.format(t_bar))\n",
    "print('Equivalant monocoque Young\\'s Modulus, E*: {:5.3f} psi'.format(E_star))\n",
    "#print('Equivalant moment of Inertia, I: {:5.3f} in^4'.format(I))\n",
    "#print('Equivalant beta sq amoment of Inertia, I: {:5.10f} in^4'.format(I_beta))"
   ]
  },
  {
   "cell_type": "markdown",
   "metadata": {},
   "source": [
    "## Mass Model\n",
    "Equations for calculating the mass of the isotank based on diameter and length\n",
    "\n",
    "tbar: equiv wt thickness<br>"
   ]
  },
  {
   "cell_type": "code",
   "execution_count": 6,
   "metadata": {
    "scrolled": true
   },
   "outputs": [
    {
     "name": "stdout",
     "output_type": "stream",
     "text": [
      "grid_mass: 1.974404972480726 lbm\n",
      "grid_mass_kg: 0.8955743002774774 kg\n"
     ]
    }
   ],
   "source": [
    "import math\n",
    "\n",
    "cross_section = math.pi*((grid_id/2+t_bar)**2-(grid_id/2)**2)\n",
    "volume = cross_section*grid_length\n",
    "grid_mass = volume*density\n",
    "lbm_to_kg = 0.453592 #unit conversion\n",
    "grid_mass_kg = grid_mass * lbm_to_kg\n",
    "\n",
    "print('grid_mass:',grid_mass, 'lbm')\n",
    "print('grid_mass_kg:',grid_mass_kg, 'kg')\n",
    "#print('tank_wall_mass:',tank_wall_mass, 'kg')"
   ]
  },
  {
   "cell_type": "markdown",
   "metadata": {},
   "source": [
    "## Load Calculations\n"
   ]
  },
  {
   "cell_type": "markdown",
   "metadata": {},
   "source": [
    "\n",
    "### Combined Compression and Bending\n",
    "For the fuel tank, the cylinder is under compression and bending. Section 4.2 on page 4.2.001 (#97) covers this scenario. The example covers:\n",
    "* General Instability (N_cr_1)\n",
    "* Skin Buckling (N_cr_2)\n",
    "* Rib Crippling (N_cr_3)"
   ]
  },
  {
   "cell_type": "code",
   "execution_count": 7,
   "metadata": {
    "scrolled": true
   },
   "outputs": [
    {
     "name": "stdout",
     "output_type": "stream",
     "text": [
      "Na -  42.00515528247506 lbf/in\n",
      "Nb -  2.3746711814418417 lbf/in\n",
      "Ncr -  44.3798264639169 lbf/in\n",
      "Ncr_Nb_check  11.094956615979225 \n",
      "\n",
      "If Ncr_Nb_check > Nb: \n",
      " edit timoshenko modifier using ref 2.1 (4.2.002) \n",
      " https://sci-hub.se/https://doi.org/10.1017/S0001924000014755\n",
      "\n",
      "Timoshenko lookup values\n",
      " R/t* 48.306275733920046\n",
      " L/R -  3.564\n",
      "\n",
      "Buckling - Classical 2799.264044626936 lbf\n",
      "Buckling - Timoshenko 2379.3744379328955 lbf\n",
      "\n",
      "General Instability -  14113.518349224589 k/in 528519.9927017662 lbf\n",
      "Skin Buckling       -  5195.7362645036255 k/in 194568.81159237158 lbf\n",
      "Rib Crippling        -  3753.43211980674 k/in 140557.7168981272 lbf\n"
     ]
    }
   ],
   "source": [
    "import math\n",
    "\n",
    "# Inputs\n",
    "F = 1573 # lbf ~7000 N\n",
    "M = 265 # lbf*in = 30 Nm\n",
    "\n",
    "# Instability\n",
    "Y = 1-0.407*(1-math.exp((-1/16)*(grid_r/t_eff)**(1/2))) #buckling knockdown factor: https://www.hindawi.com/journals/ijae/2020/9851984/#B4\n",
    "\n",
    "c0 = 0.612*Y\n",
    "c1 = 10.2     # 4.2.006\n",
    "c2 = 0.616    # 4.2.008\n",
    "\n",
    "R_t_star = grid_r/t_star\n",
    "L_R = grid_length/grid_r\n",
    "\n",
    "# Classical Value\n",
    "N_cl = (1/(3*(1-nu**2))**0.5)*E_star*t_star**2/grid_r # k/in\n",
    "\n",
    "N_a = F/(2*math.pi*grid_r) # k/in\n",
    "N_b = M/(math.pi*grid_r**2) # k/in\n",
    "N_cr = N_a + N_b\n",
    "Ncr_Nb_check = N_cr/4\n",
    "N_cr2 = E_star*t_star**2*(3*(1-nu)**2)**(-1/2)/grid_r\n",
    "\n",
    "timoshenko = 0.85\n",
    "N_cl_timo = N_cl*timoshenko\n",
    "\n",
    "N_cr_1 = c0*E_star*t_star**2/grid_r*β\n",
    "N_cr_2 = c1*E_star*t_star*(1+α)*(t_star**2)/(h**2)\n",
    "N_cr_3 = c2*E_star*t_star*(1+α)*(b**2)/(d**2)\n",
    "\n",
    "#p_burst = S_u*1000*skin_t*(1+alpha)/tank_r\n",
    "#p_meop = p_burst/1.5\n",
    "\n",
    "print('Na - ',N_a,'lbf/in')\n",
    "print('Nb - ',N_b,'lbf/in')\n",
    "print('Ncr - ',N_cr,'lbf/in')\n",
    "print('Ncr_Nb_check ',Ncr_Nb_check,'\\n')\n",
    "\n",
    "\n",
    "print('If Ncr_Nb_check > Nb: \\n edit timoshenko modifier using ref 2.1 (4.2.002) \\n https://sci-hub.se/https://doi.org/10.1017/S0001924000014755')\n",
    "print('\\nTimoshenko lookup values\\n R/t*',R_t_star)\n",
    "print(' L/R - ',L_R)\n",
    "\n",
    "print('\\nBuckling - Classical',N_cl, 'lbf')\n",
    "print('Buckling - Timoshenko',N_cl_timo, 'lbf')\n",
    "print('\\nGeneral Instability - ',N_cr_1,'k/in',N_cr_1*2*math.pi*grid_r,'lbf')\n",
    "print('Skin Buckling       - ',N_cr_2,'k/in',N_cr_2*2*math.pi*grid_r,'lbf')\n",
    "print('Rib Crippling        - ',N_cr_3,'k/in',N_cr_3*2*math.pi*grid_r,'lbf')\n",
    "#print('P_burst             - ',p_burst,'psi')\n",
    "#print('P_MEOP              - ',p_meop,'psi')\n"
   ]
  },
  {
   "cell_type": "markdown",
   "metadata": {},
   "source": [
    "## Stress Calcs"
   ]
  },
  {
   "cell_type": "code",
   "execution_count": 8,
   "metadata": {},
   "outputs": [
    {
     "name": "stdout",
     "output_type": "stream",
     "text": [
      "axial load per inch:  42.00515528247506 lbf/in\n",
      "max bending load per inch:  2.3746711814418417 lbf/in\n",
      "combined:  44.3798264639169 lbf/in\n",
      "max stress fiber: 2007.3094475945504 psi\n"
     ]
    }
   ],
   "source": [
    "Fx = 0.0 #axial\n",
    "Fy = F #circumferential\n",
    "Txy = 0.0\n",
    "\n",
    "Na = F/(2*math.pi*grid_r)\n",
    "Nb = M/(math.pi*grid_r**2)\n",
    "N_max = Na+N_b\n",
    "max_stress_fiber = N_max/t_eff\n",
    "\n",
    "#add in membrane rib and skin stresses (2.0.021)\n",
    "\n",
    "print('axial load per inch: ',Na,'lbf/in')\n",
    "print('max bending load per inch: ',Nb,'lbf/in')\n",
    "print('combined: ',N_max,'lbf/in')\n",
    "print('max stress fiber:',max_stress_fiber,'psi')"
   ]
  },
  {
   "cell_type": "markdown",
   "metadata": {},
   "source": [
    "## Thermal Expansion (Contraction)"
   ]
  },
  {
   "cell_type": "code",
   "execution_count": 9,
   "metadata": {},
   "outputs": [
    {
     "name": "stdout",
     "output_type": "stream",
     "text": [
      "-0.056870319999999995\n"
     ]
    }
   ],
   "source": [
    "cte = 13*10**-6 # in/in F\n",
    "dt = -297-70 # Room temperature to liquid oxygen temp\n",
    "delta_diameter = cte*grid_od*dt\n",
    "print(delta_diameter)"
   ]
  }
 ],
 "metadata": {
  "kernelspec": {
   "display_name": "Python 3 (ipykernel)",
   "language": "python",
   "name": "python3"
  },
  "language_info": {
   "codemirror_mode": {
    "name": "ipython",
    "version": 3
   },
   "file_extension": ".py",
   "mimetype": "text/x-python",
   "name": "python",
   "nbconvert_exporter": "python",
   "pygments_lexer": "ipython3",
   "version": "3.8.8"
  }
 },
 "nbformat": 4,
 "nbformat_minor": 2
}
