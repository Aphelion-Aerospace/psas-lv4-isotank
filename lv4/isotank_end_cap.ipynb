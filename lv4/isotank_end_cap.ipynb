{
 "cells": [
  {
   "cell_type": "markdown",
   "metadata": {},
   "source": [
    "# End Cap\n"
   ]
  },
  {
   "cell_type": "code",
   "execution_count": 4,
   "metadata": {},
   "outputs": [
    {
     "name": "stdout",
     "output_type": "stream",
     "text": [
      "Web non-dimensional ratio, Alpha: 0.223\n",
      "Rib depth to skin thickness, Delta: 7.000\n",
      "Beta: 7.573\n",
      "\n",
      "S1 -0.5088854890498562\n",
      "S2 0.09234858327135773\n",
      "\n",
      "Mx 1966.490 lb in\n",
      "Rib Stress 14.196 ksi\n",
      "Rib Factor of Safety  3.17\n",
      "Skin Stress 3.864 ksi\n",
      "Skin Crit Stress 774.123 ksi\n"
     ]
    }
   ],
   "source": [
    "import math\n",
    "# Worked from 4.10.3, on pages 4.10.010 - 4.10.011\n",
    "\n",
    "end_cap_t = 0.4\n",
    "skin_t = 0.05\n",
    "rib_t = 0.05\n",
    "cell_height = 1.571\n",
    "end_cap_r = 11.5 / 2.0\n",
    "p_meop = 285.78\n",
    "flanges = False\n",
    "\n",
    "# Material properties for Al 6061-T6\n",
    "E = 69.0 # Young's Modules, GPa\n",
    "F_tu = 45.0 # Ultimate Tensile Strength - ksi\n",
    "nu = 0.33\n",
    "\n",
    "rib_depth = end_cap_t - skin_t\n",
    "alpha = (rib_t*rib_depth)/(skin_t*cell_height) # Web non-dimensional ratio, pg. 2.0.008\n",
    "t_eff = skin_t*(1+alpha) # Effective thickness \n",
    "delta = rib_depth/skin_t # rib depth to skin thickness ratio, pg. 2.0.008\n",
    "if flanges == False:\n",
    "    beta = (3*alpha*(1+delta)**2+(1+alpha)*(1+alpha*delta**2))**0.5\n",
    "    \n",
    "print('Web non-dimensional ratio, Alpha: {:5.3f}'.format(alpha))\n",
    "print('Rib depth to skin thickness, Delta: {:5.3f}'.format(delta))\n",
    "print('Beta: {:5.3f}'.format(beta))\n",
    "\n",
    "# Note: The example uses the tables to find k1 and k2 and then find S1, S2\n",
    "# Since we have somewhat more compute power than the 1960s, we just solve\n",
    "# directly for S1 and S2\n",
    "S1 = -(end_cap_t**2)/6*beta**2/(2*alpha+alpha*delta+1) # Skin Section Modulus\n",
    "S2 = (end_cap_t**2)/6*beta**2/(2*delta+alpha*delta+1) # Rib Section Modulus\n",
    "\n",
    "print('\\nS1',S1)\n",
    "print('S2',S2)\n",
    "\n",
    "# Rib Stress\n",
    "# Assumes ribs are in tension\n",
    "Mx = (3 + nu)/16*p_meop*end_cap_r**2\n",
    "sigma_rib = 2/3*Mx/S2/1000\n",
    "rib_FS = F_tu/sigma_rib\n",
    "\n",
    "print('\\nMx {:5.3f} lb in'.format(Mx))\n",
    "print('Rib Stress {:5.3f} ksi'.format(sigma_rib))\n",
    "print('Rib Factor of Safety {:5.2f}'.format(rib_FS))\n",
    "\n",
    "# Skin Stress\n",
    "# Assumes skin in is compresssion (buckling)\n",
    "sigma_skin = - Mx/S1/1000\n",
    "sigma_crit = (math.pi**2)/(1-nu**2)*E*1000*(skin_t/cell_height)**2\n",
    "print('Skin Stress {:5.3f} ksi'.format(sigma_skin))\n",
    "print('Skin Crit Stress {:5.3f} ksi'.format(sigma_crit))"
   ]
  },
  {
   "cell_type": "code",
   "execution_count": null,
   "metadata": {},
   "outputs": [],
   "source": []
  }
 ],
 "metadata": {
  "kernelspec": {
   "display_name": "Python 3",
   "language": "python",
   "name": "python3"
  },
  "language_info": {
   "codemirror_mode": {
    "name": "ipython",
    "version": 3
   },
   "file_extension": ".py",
   "mimetype": "text/x-python",
   "name": "python",
   "nbconvert_exporter": "python",
   "pygments_lexer": "ipython3",
   "version": "3.7.4"
  }
 },
 "nbformat": 4,
 "nbformat_minor": 2
}
