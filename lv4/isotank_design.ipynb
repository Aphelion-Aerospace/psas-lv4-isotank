{
 "cells": [
  {
   "cell_type": "markdown",
   "metadata": {},
   "source": [
    "# Isotank Design for the LV4 Sub-orbital Rocket\n",
    "## Motivation\n",
    "With liquid oxygen (LOX) being one of the most common oxidizers used in rocketry, lightweight cryogenic storage are a critical design component. Traditionally metallic materials, such as stainless steel, aluminimun and aluminum-lithium alloys have been partially due to their compatibility with LOX. Composite materials have also been looked at over the years, but finding specific materials that can withstand both the cold temperatures and remain non-reactive can be difficult. As part of the PSAS LV4 program, a capstone team at PSU built a small-scale composite tank design, but there are concerns with scaling up the design to LV4 scales.\n",
    "\n",
    "In light of the difficulties manufacturing previous designs, a new approach for LV4 LOX tanks using aluminum isogrids is being studied. The goal is to have a design that is manufacturable by the amatuer group, but has a mass close to composite designs.\n",
    "\n",
    "## Design Choices\n",
    "### Material\n",
    "For simplicity, the tank is built from a tube or pipe, eliminating the need to weld the length of the tank. The downside is that this limits the material options to what can be obtained off the shelf. A quick survey of choices found the following options, all made from 6061-T6\n",
    "* 11.00 in ID, 0.500 in wall thickness, 12.00 in OD\n",
    "* 10.00 in ID, 0.375 in wall thickness, 10.75 in OD\n",
    "\n",
    "6061-T6 is a an acceptable choice as it has reasonable strength, weldability and LOX compatibility. The 11 in inner diameter (ID) pipe was selected as it's closest to the initial LV4 multi-disciplinary design targets."
   ]
  },
  {
   "cell_type": "code",
   "execution_count": 1,
   "metadata": {},
   "outputs": [],
   "source": [
    "# Tank radial dimensions\n",
    "tank_id = 11\n",
    "tank_wall_t = 0.5\n",
    "tank_od = tank_id+2*tank_wall_t\n",
    "\n",
    "# Material properties \n",
    "E = 69.0 # Young's Modules, GPa for Al 6061-T6\n",
    "nu = 0.33 # Poisson's Ratio for Al 6061-T6"
   ]
  },
  {
   "cell_type": "markdown",
   "metadata": {},
   "source": [
    "### Flanges\n",
    "The use of the flange can increase the strength of the isogrid, but increases machining complexity. It was decided to omit flanges for initil version of the design.\n"
   ]
  },
  {
   "cell_type": "code",
   "execution_count": 2,
   "metadata": {},
   "outputs": [],
   "source": [
    "flanges = False"
   ]
  },
  {
   "cell_type": "markdown",
   "metadata": {},
   "source": [
    "### Skin Thickness\n",
    "The tank stock material is not highly precise. The part will be machined from the outside in and there is a risk of inadvertantly maching through the pipe if the skin thickness is too small. Therefore the skin thickness was decided to be 0.05\"."
   ]
  },
  {
   "cell_type": "code",
   "execution_count": 3,
   "metadata": {},
   "outputs": [],
   "source": [
    "skin_t = 0.05"
   ]
  },
  {
   "cell_type": "markdown",
   "metadata": {},
   "source": [
    "\n",
    "### Rib Depth\n",
    "The isogrid ribs are the source of the strength of the isogrid design. The depth of the rib is the primary factor is determining the strength. Thefore, for optimimum strength, the rib depth is simply the wall thickness minus the skin thickness "
   ]
  },
  {
   "cell_type": "code",
   "execution_count": 4,
   "metadata": {},
   "outputs": [
    {
     "name": "stdout",
     "output_type": "stream",
     "text": [
      "Rib Depth: 0.450\n"
     ]
    }
   ],
   "source": [
    "rib_depth = tank_wall_t - skin_t\n",
    "print('Rib Depth: {:5.3f}'.format(rib_depth))"
   ]
  },
  {
   "cell_type": "markdown",
   "metadata": {},
   "source": [
    "### Rib thickness\n",
    "The rib web thickness was chosen to be 0.0625 in based on what should be reasonably achievable."
   ]
  },
  {
   "cell_type": "code",
   "execution_count": 5,
   "metadata": {},
   "outputs": [],
   "source": [
    "rib_t = 0.0625"
   ]
  },
  {
   "cell_type": "markdown",
   "metadata": {},
   "source": [
    "\n",
    "### Cell size\n",
    "For optimal strenght and to maintain isotropic properties, the isogrid cells need to wrap around the tank diameter in integer increments."
   ]
  },
  {
   "cell_type": "code",
   "execution_count": 6,
   "metadata": {},
   "outputs": [
    {
     "name": "stdout",
     "output_type": "stream",
     "text": [
      "Cell Height: 1.571\n"
     ]
    }
   ],
   "source": [
    "import math\n",
    "num_radial_cells = 24\n",
    "cell_height = tank_od*math.pi/num_radial_cells\n",
    "print('Cell Height: {:5.3f}'.format(cell_height))"
   ]
  },
  {
   "cell_type": "markdown",
   "metadata": {},
   "source": [
    "## Tank Properties\n",
    "The isogrid properties are calculated from NASA CR-124075"
   ]
  },
  {
   "cell_type": "code",
   "execution_count": 7,
   "metadata": {},
   "outputs": [
    {
     "name": "stdout",
     "output_type": "stream",
     "text": [
      "Alpha: 0.358\n",
      "Delta: 9.000\n",
      "Beta: 12.173\n",
      "t*: 0.448 in\n",
      "E*: 10.455 GPa\n"
     ]
    }
   ],
   "source": [
    "alpha = (rib_t*rib_depth)/(skin_t*cell_height) # Web non-dimensional ratio, pg. 2.0.008\n",
    "print('Alpha: {:5.3f}'.format(alpha))\n",
    "delta = rib_depth/skin_t # rib depth to skin thickness ratio, pg. 2.0.008\n",
    "print('Delta: {:5.3f}'.format(delta))\n",
    "if flanges == False:\n",
    "    beta = (3*alpha*(1+delta)**2+(1+alpha)*(1+alpha*delta**2))**0.5\n",
    "    t_star = skin_t*beta/(1+alpha) # equivilent thickness, Eq. 2.5.3\n",
    "    E_star = E*(1+alpha)**2.0/beta # equivilent Young's Modulus Eq. 2.5.4\n",
    "print('Beta: {:5.3f}'.format(beta))\n",
    "print('t*: {:5.3f} in'.format(t_star))\n",
    "print('E*: {:5.3f} GPa'.format(E_star))"
   ]
  },
  {
   "cell_type": "code",
   "execution_count": null,
   "metadata": {},
   "outputs": [],
   "source": []
  }
 ],
 "metadata": {
  "kernelspec": {
   "display_name": "Python 3",
   "language": "python",
   "name": "python3"
  },
  "language_info": {
   "codemirror_mode": {
    "name": "ipython",
    "version": 3
   },
   "file_extension": ".py",
   "mimetype": "text/x-python",
   "name": "python",
   "nbconvert_exporter": "python",
   "pygments_lexer": "ipython3",
   "version": "3.7.4"
  }
 },
 "nbformat": 4,
 "nbformat_minor": 2
}
