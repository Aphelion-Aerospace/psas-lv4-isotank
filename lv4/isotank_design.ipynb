{
 "cells": [
  {
   "cell_type": "markdown",
   "metadata": {},
   "source": [
    "# Isotank Design for the LV4 Sub-orbital Rocket\n",
    "## Motivation\n",
    "With liquid oxygen (LOX) being one of the most common oxidizers used in rocketry, lightweight cryogenic storage are a critical design component. Traditionally metallic materials, such as stainless steel, aluminimun and aluminum-lithium alloys have been partially due to their compatibility with LOX. Composite materials have also been looked at over the years, but finding specific materials that can withstand both the cold temperatures and remain non-reactive can be difficult. As part of the PSAS LV4 program, a capstone team at PSU built a small-scale composite tank design, but there are concerns with scaling up the design to LV4 scales.\n",
    "\n",
    "In light of the difficulties manufacturing previous designs, a new approach for LV4 LOX tanks using aluminum isogrids is being studied. The goal is to have a design that is manufacturable by the amatuer group, but has a mass close to composite designs.\n",
    "\n",
    "## Design Choices\n",
    "### Material\n",
    "For simplicity, the tank is built from a tube or pipe, eliminating the need to weld the length of the tank. The downside is that this limits the material options to what can be obtained off the shelf. A quick survey of choices found the following options, all made from 6061-T6\n",
    "* 11.00 in ID, 0.500 in wall thickness, 12.00 in OD\n",
    "* 10.00 in ID, 0.375 in wall thickness, 10.75 in OD\n",
    "\n",
    "6061-T6 is a an acceptable choice as it has reasonable strength, weldability and LOX compatibility. The 11 in inner diameter (ID) pipe was selected as it's closest to the initial LV4 multi-disciplinary design targets.\n",
    "\n",
    "For initial estimates, a total tank length of 48\" is assumed. This fits with available manufacuring possibilities."
   ]
  },
  {
   "cell_type": "code",
   "execution_count": 1,
   "metadata": {},
   "outputs": [],
   "source": [
    "# Tank radial dimensions\n",
    "tank_id = 11\n",
    "tank_wall_t = 0.5\n",
    "tank_od = tank_id+2*tank_wall_t\n",
    "tank_overall_length = 48\n",
    "\n",
    "# Material properties \n",
    "E = 69.0 # Young's Modules, GPa for Al 6061-T6\n",
    "nu = 0.33 # Poisson's Ratio for Al 6061-T6"
   ]
  },
  {
   "cell_type": "markdown",
   "metadata": {},
   "source": [
    "### Flanges\n",
    "The use of the flange can increase the strength of the isogrid, but increases machining complexity. It was decided to omit flanges for initil version of the design.\n"
   ]
  },
  {
   "cell_type": "code",
   "execution_count": 2,
   "metadata": {},
   "outputs": [],
   "source": [
    "flanges = False"
   ]
  },
  {
   "cell_type": "markdown",
   "metadata": {},
   "source": [
    "### Skin Thickness\n",
    "The tank stock material is not highly precise. The part will be machined from the outside in and there is a risk of inadvertantly maching through the pipe if the skin thickness is too small. Additionally, after talking with OMIC, they thought that a skin thickness of 0.05\" (50 mil) was reasonable."
   ]
  },
  {
   "cell_type": "code",
   "execution_count": 3,
   "metadata": {},
   "outputs": [],
   "source": [
    "skin_t = 0.05"
   ]
  },
  {
   "cell_type": "markdown",
   "metadata": {},
   "source": [
    "\n",
    "### Rib Depth\n",
    "The isogrid ribs are the source of the strength of the isogrid design. The depth of the rib is the primary factor is determining the strength. Thefore, for optimimum strength, the rib depth is simply the wall thickness minus the skin thickness "
   ]
  },
  {
   "cell_type": "code",
   "execution_count": 4,
   "metadata": {},
   "outputs": [
    {
     "name": "stdout",
     "output_type": "stream",
     "text": [
      "Rib Depth: 0.450\n"
     ]
    }
   ],
   "source": [
    "rib_depth = tank_wall_t - skin_t\n",
    "print('Rib Depth: {:5.3f}'.format(rib_depth))"
   ]
  },
  {
   "cell_type": "markdown",
   "metadata": {},
   "source": [
    "### Rib thickness\n",
    "Again, after discussion with OMIC, it was decided that a rib web thickness of 0.050\" (50 mil) could be reasonably achievable."
   ]
  },
  {
   "cell_type": "code",
   "execution_count": 5,
   "metadata": {},
   "outputs": [],
   "source": [
    "rib_t = 0.05"
   ]
  },
  {
   "cell_type": "markdown",
   "metadata": {},
   "source": [
    "\n",
    "### Cell size\n",
    "For optimal strengthand to maintain isotropic properties, the isogrid cells need to wrap around the tank diameter in integer increments. Twenty four cells was chosen as a starting point."
   ]
  },
  {
   "cell_type": "code",
   "execution_count": 6,
   "metadata": {},
   "outputs": [
    {
     "name": "stdout",
     "output_type": "stream",
     "text": [
      "Cell Height: 1.571\n"
     ]
    }
   ],
   "source": [
    "import math\n",
    "num_radial_cells = 24\n",
    "cell_height = tank_od*math.pi/num_radial_cells\n",
    "print('Cell Height: {:5.3f}'.format(cell_height))"
   ]
  },
  {
   "cell_type": "markdown",
   "metadata": {},
   "source": [
    "## Tank Properties\n",
    "The isogrid properties are calculated from NASA CR-124075"
   ]
  },
  {
   "cell_type": "code",
   "execution_count": 11,
   "metadata": {},
   "outputs": [
    {
     "name": "stdout",
     "output_type": "stream",
     "text": [
      "Web non-dimensional ratio, Alpha: 0.286\n",
      "Rib depth to skin thickness, Delta: 9.000\n",
      "Beta: 10.820\n",
      "Equivilant monocoque thickness, t*: 0.421 in\n",
      "Equivilant weight thickness, t_bar: 0.016 in\n",
      "Equivilant monocoque Young's Modulus, E*: 10.554 GPa\n"
     ]
    }
   ],
   "source": [
    "alpha = (rib_t*rib_depth)/(skin_t*cell_height) # Web non-dimensional ratio, pg. 2.0.008\n",
    "print('Web non-dimensional ratio, Alpha: {:5.3f}'.format(alpha))\n",
    "delta = rib_depth/skin_t # rib depth to skin thickness ratio, pg. 2.0.008\n",
    "print('Rib depth to skin thickness, Delta: {:5.3f}'.format(delta))\n",
    "if flanges == False:\n",
    "    beta = (3*alpha*(1+delta)**2+(1+alpha)*(1+alpha*delta**2))**0.5\n",
    "    t_star = skin_t*beta/(1+alpha) # equivilent thickness, Eq. 2.5.3\n",
    "    t_bar = t*(1+alpha)\n",
    "    E_star = E*(1+alpha)**2.0/beta # equivilent Young's Modulus Eq. 2.5.4\n",
    "print('Beta: {:5.3f}'.format(beta))\n",
    "print('Equivilant monocoque thickness, t*: {:5.3f} in'.format(t_star))\n",
    "print('Equivilant weight thickness, t_bar: {:5.3f} in'.format(t_bar))\n",
    "print('Equivilant monocoque Young\\'s Modulus, E*: {:5.3f} GPa'.format(E_star))"
   ]
  },
  {
   "cell_type": "markdown",
   "metadata": {},
   "source": [
    "## Mass Model\n",
    "Equations for calculating the mass of the isotank based on diameter and length"
   ]
  },
  {
   "cell_type": "code",
   "execution_count": 13,
   "metadata": {},
   "outputs": [
    {
     "name": "stdout",
     "output_type": "stream",
     "text": [
      "tank_mass: 1.8897452122617437 kg\n"
     ]
    }
   ],
   "source": [
    "import math\n",
    "\n",
    "# Ring mass estimate from solidworks model\n",
    "ring_mass = 0.5316 #kg = 1.172 lbs\n",
    "ring_circum_density = 0.5316/(math.pi*12.0) # 12.0 since 12 was the diameter for the mass estimate\n",
    "ring_length = 1.0*0.0254\n",
    "\n",
    "weld_gap_length = 1.0*0.0254\n",
    "\n",
    "grid_length = 48*0.0254-2*weld_gap_length-2*ring_length\n",
    "grid_t_bar = t_bar*0.0254\n",
    "\n",
    "density = 2700 #kg/m3\n",
    "t = tank_wall_t*0.0254\n",
    "id = tank_id*0.0254\n",
    "tank_mass = 2.0*ring_circum_density*id + 2.0*density*weld_gap_length*(math.pi*(((id+t)/2.0)**2-(id/2.0)**2)) +\\\n",
    "    2.0*density*grid_length*(math.pi*(((id+grid_t_bar)/2.0)**2-(id/2.0)**2))\n",
    "print('tank_mass:',tank_mass, 'kg')"
   ]
  },
  {
   "cell_type": "markdown",
   "metadata": {},
   "source": [
    "## Load Calculations\n",
    "\n",
    "### Pressure Only\n",
    "Max pressure calculation assuming pressure only. Assumes thin-wall and isotropic assumptions\n"
   ]
  },
  {
   "cell_type": "code",
   "execution_count": 16,
   "metadata": {},
   "outputs": [
    {
     "name": "stdout",
     "output_type": "stream",
     "text": [
      "max pressure for unwelded , 6061-T6 :  3058.51671810182 psi\n",
      "max pressure for welded , 6061-T6 :  1835.110030861092 psi\n"
     ]
    }
   ],
   "source": [
    "material_name = '6061-T6'\n",
    "welded_tensile_strength = 24000 # psi\n",
    "tensile_strength = 40000 # psi\n",
    "ult_tensile_strength = 45000 # psi\n",
    "\n",
    "max_pressure = tensile_strength*t_star/(tank_id/2)\n",
    "print('max pressure for unwelded ,', material_name, ': ',max_pressure, 'psi')\n",
    "max_welded_pressure = welded_tensile_strength*t_star/(tank_id/2)\n",
    "print('max pressure for welded ,', material_name, ': ',max_welded_pressure, 'psi')"
   ]
  },
  {
   "cell_type": "markdown",
   "metadata": {},
   "source": [
    "\n",
    "### Combined Compression and Bending\n",
    "For the fuel tank, the cylinder is under compression and bending. Section 4.2 on page 4.2.001 (#97) covers this scenario."
   ]
  },
  {
   "cell_type": "code",
   "execution_count": null,
   "metadata": {},
   "outputs": [],
   "source": []
  }
 ],
 "metadata": {
  "kernelspec": {
   "display_name": "Python 3",
   "language": "python",
   "name": "python3"
  },
  "language_info": {
   "codemirror_mode": {
    "name": "ipython",
    "version": 3
   },
   "file_extension": ".py",
   "mimetype": "text/x-python",
   "name": "python",
   "nbconvert_exporter": "python",
   "pygments_lexer": "ipython3",
   "version": "3.7.4"
  }
 },
 "nbformat": 4,
 "nbformat_minor": 2
}
