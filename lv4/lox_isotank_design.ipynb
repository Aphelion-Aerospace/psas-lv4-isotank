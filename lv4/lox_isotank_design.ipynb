{
 "cells": [
  {
   "cell_type": "markdown",
   "metadata": {},
   "source": [
    "# Isotank Design for the LV4 Sub-Orbital Rocket\n",
    "## Motivation\n",
    "With liquid oxygen (LOX) being one of the most common oxidizers used in rocketry, lightweight cryogenic storage are a critical design component. Traditionally metallic materials, such as stainless steel, aluminimun and aluminum-lithium alloys have been partially due to their compatibility with LOX. Composite materials have also been looked at over the years, but finding specific materials that can withstand both the cold temperatures and remain non-reactive can be difficult. As part of the PSAS LV4 program, a capstone team at PSU built a small-scale composite tank design, but there are concerns with scaling up the design to LV4 scales.\n",
    "\n",
    "In light of the difficulties manufacturing previous designs, a new approach for LV4 LOX tanks using aluminum isogrids is being studied. The goal is to have a design that is manufacturable by the amatuer group, but has a mass close to composite designs.\n",
    "\n",
    "## Design Choices\n",
    "### Material\n",
    "For simplicity, the tank is built from a tube or pipe, eliminating the need to weld the length of the tank. The downside is that this limits the material options to what can be obtained off the shelf. A quick survey of choices found the following options, all made from 6061-T6. Note, material prices as of 2020/10\n",
    "\n",
    "| ID (in) | Wall (in) | OD (in) | Type | Price/Ft | Source |\n",
    "|---------|-----------|---------|------|----------|--------|\n",
    "| 10.02 | 0.365 | 10.75 | Pipe | 270.01 | [Online Metals](https://www.onlinemetals.com/en/buy/aluminum/10-nom-schedule-40-aluminum-pipe-6061-t6-extruded/pid/10619)|\n",
    "| 10.02 | 0.365 | 10.75 | Pipe | 64.33 | [Midwest Steel & Al*](https://www.midweststeelsupply.com/store/6061aluminumpipe)|\n",
    "| 10.50 | 0.750 | 12.00 | Tube | 826.71 | [Online Metals](https://www.onlinemetals.com/en/buy/aluminum/12-od-x-0-75-wall-x-10-5-id-aluminum-round-tube-6061-t6-extruded-aluminum-association-in-/pid/21986)|\n",
    "| 11.00 | 0.500 | 12.00 | Tube | 678.12 | [Metals Depot](https://www.metalsdepot.com/search?q=T3R12500)\n",
    "| 11.50 | 0.250 | 12.00 | Tube | 181.63 | [Online Metals](https://www.onlinemetals.com/en/buy/aluminum/12-od-x-0-25-wall-x-11-5-id-aluminum-round-tube-6061-t6-extruded/pid/23929)|\n",
    "| 12.00 | 0.375 | 12.75 | Pipe | 85.10 | [Midwest Steel & Al*](https://www.midweststeelsupply.com/store/6061aluminumpipe)|\n",
    "\n",
    "*For Midwest Steel and Al, material is considered raw and can have light scratches\n",
    "\n",
    "Other sizes appear to be available from [Vita Needle](https://www.vitaneedle.com/aluminum-tube/) but quotes have to be requested.\n",
    "\n",
    "6061-T6 is a an acceptable choice as it has reasonable strength, weldability and LOX compatibility. The 11.5 in inner diameter (ID) pipe was selected as it's closest to the initial LV4 multi-disciplinary design targets and least expensive option.\n",
    "\n",
    "For initial estimates, a total tank length of 48\" is assumed. This fits with available manufacuring possibilities."
   ]
  },
  {
   "cell_type": "code",
   "execution_count": 1,
   "metadata": {},
   "outputs": [],
   "source": [
    "# Tank radial dimensions\n",
    "tank_id = 11.5     # in\n",
    "tank_wall_t = 0.25  # in\n",
    "tank_od = tank_id+2*tank_wall_t # in\n",
    "tank_r = tank_od/2   # in\n",
    "tank_overall_length = 48  # in\n",
    "\n",
    "# Material properties for Al 6061-T6\n",
    "E = 69.0 # Young's Modules, GPa\n",
    "\n",
    "E_imp = 10000 # ksi\n",
    "F_ty = 40.0 # Yield Tensile Strength - ksi\n",
    "F_tu = 45.0 # Ultimate Tensile Strength - ksi\n",
    "\n",
    "nu = 0.33 # Poisson's Ratio\n"
   ]
  },
  {
   "cell_type": "markdown",
   "metadata": {},
   "source": [
    "### Safety Factor\n",
    "Minimum safety factor for Base 11 is 1.5 (see requirement 3.2.4.15)"
   ]
  },
  {
   "cell_type": "code",
   "execution_count": 2,
   "metadata": {},
   "outputs": [],
   "source": [
    "safety_factor = 1.5"
   ]
  },
  {
   "cell_type": "markdown",
   "metadata": {},
   "source": [
    "### Flanges\n",
    "The use of the flange can increase the strength of the isogrid, but increases machining complexity. It was decided to omit flanges for initil version of the design.\n"
   ]
  },
  {
   "cell_type": "code",
   "execution_count": 3,
   "metadata": {},
   "outputs": [],
   "source": [
    "flanges = False"
   ]
  },
  {
   "cell_type": "markdown",
   "metadata": {},
   "source": [
    "### Skin Thickness\n",
    "The tank stock material is not highly precise. The part will be machined from the outside in and there is a risk of inadvertantly maching through the pipe if the skin thickness is too small. Additionally, after talking with OMIC, they thought that a skin thickness of 0.05\" (50 mil) was reasonable."
   ]
  },
  {
   "cell_type": "code",
   "execution_count": 4,
   "metadata": {},
   "outputs": [],
   "source": [
    "skin_t = 0.05"
   ]
  },
  {
   "cell_type": "markdown",
   "metadata": {},
   "source": [
    "\n",
    "### Rib Depth\n",
    "The isogrid ribs are the source of the strength of the isogrid design. The depth of the rib is the primary factor is determining the strength. Thefore, for optimimum strength, the rib depth is simply the wall thickness minus the skin thickness "
   ]
  },
  {
   "cell_type": "code",
   "execution_count": 5,
   "metadata": {},
   "outputs": [
    {
     "name": "stdout",
     "output_type": "stream",
     "text": [
      "Rib Depth: 0.150\n"
     ]
    }
   ],
   "source": [
    "rib_depth = tank_wall_t - skin_t - 0.05\n",
    "print('Rib Depth: {:5.3f}'.format(rib_depth))"
   ]
  },
  {
   "cell_type": "markdown",
   "metadata": {},
   "source": [
    "### Rib thickness\n",
    "Again, after discussion with OMIC, it was decided that a rib web thickness of 0.050\" (50 mil) could be reasonably achievable."
   ]
  },
  {
   "cell_type": "code",
   "execution_count": 6,
   "metadata": {},
   "outputs": [],
   "source": [
    "rib_t = 0.05"
   ]
  },
  {
   "cell_type": "markdown",
   "metadata": {},
   "source": [
    "\n",
    "### Pattern size\n",
    "For optimal strength and to maintain isotropic properties, the isogrid cells need to wrap around the tank diameter in integer increments. Twenty four cells was chosen as a starting point."
   ]
  },
  {
   "cell_type": "code",
   "execution_count": 7,
   "metadata": {},
   "outputs": [
    {
     "name": "stdout",
     "output_type": "stream",
     "text": [
      "Pattern Size: 1.571\n"
     ]
    }
   ],
   "source": [
    "import math\n",
    "num_radial_divisions = 24\n",
    "pattern_size = tank_od*math.pi/num_radial_divisions\n",
    "print('Pattern Size: {:5.3f}'.format(pattern_size))"
   ]
  },
  {
   "cell_type": "markdown",
   "metadata": {},
   "source": [
    "## Tank Properties\n",
    "The isogrid properties are calculated from NASA CR-124075"
   ]
  },
  {
   "cell_type": "code",
   "execution_count": 8,
   "metadata": {
    "scrolled": true
   },
   "outputs": [
    {
     "name": "stdout",
     "output_type": "stream",
     "text": [
      "Web non-dimensional ratio, Alpha: 0.095\n",
      "Rib depth to skin thickness, Delta: 3.000\n",
      "Beta: 2.573\n",
      "Skin thickness, t: 0.050 in\n",
      "Effective thickness, t_eff: 0.055 in\n",
      "Equivalant monocoque thickness, t*: 0.117 in\n",
      "Equivalant weight thickness, t_bar: 0.064 in\n",
      "Equivalant monocoque Young's Modulus, E*: 32.182 GPa\n"
     ]
    }
   ],
   "source": [
    "cell_height = pattern_size\n",
    "alpha = (rib_t*rib_depth)/(skin_t*cell_height) # Web non-dimensional ratio, pg. 2.0.008\n",
    "t_eff = skin_t*(1+alpha) # Effective thickness \n",
    "delta = rib_depth/skin_t # rib depth to skin thickness ratio, pg. 2.0.008\n",
    "if flanges == False:\n",
    "    beta = (3*alpha*(1+delta)**2+(1+alpha)*(1+alpha*delta**2))**0.5\n",
    "    t_star = skin_t*beta/(1+alpha) # equivilent thickness, Eq. 2.5.3\n",
    "    t_bar = skin_t*(1+ 3*alpha)\n",
    "    E_star = E*(1+alpha)**2.0/beta # equivilent Young's Modulus Eq. 2.5.4\n",
    "print('Web non-dimensional ratio, Alpha: {:5.3f}'.format(alpha))\n",
    "print('Rib depth to skin thickness, Delta: {:5.3f}'.format(delta))\n",
    "print('Beta: {:5.3f}'.format(beta))\n",
    "print('Skin thickness, t: {:5.3f} in'.format(skin_t))\n",
    "print('Effective thickness, t_eff: {:5.3f} in'.format(t_eff))\n",
    "print('Equivalant monocoque thickness, t*: {:5.3f} in'.format(t_star))\n",
    "print('Equivalant weight thickness, t_bar: {:5.3f} in'.format(t_bar))\n",
    "print('Equivalant monocoque Young\\'s Modulus, E*: {:5.3f} GPa'.format(E_star))"
   ]
  },
  {
   "cell_type": "markdown",
   "metadata": {},
   "source": [
    "## Mass Model\n",
    "Equations for calculating the mass of the isotank based on diameter and length"
   ]
  },
  {
   "cell_type": "code",
   "execution_count": 9,
   "metadata": {},
   "outputs": [
    {
     "name": "stdout",
     "output_type": "stream",
     "text": [
      "tank_mass: 5.374328428123179 kg\n"
     ]
    }
   ],
   "source": [
    "import math\n",
    "\n",
    "# Ring mass estimate from solidworks model\n",
    "ring_mass = 0.5316 #kg = 1.172 lbs\n",
    "ring_circum_density = 0.5316/(math.pi*12.0) # 12.0 since 12 was the diameter for the mass estimate\n",
    "ring_length = 1.0*0.0254\n",
    "\n",
    "weld_gap_length = 1.0*0.0254\n",
    "\n",
    "grid_length = 48*0.0254-2*weld_gap_length-2*ring_length\n",
    "grid_t_bar = t_bar*0.0254\n",
    "\n",
    "density = 2700 #kg/m3\n",
    "t = tank_wall_t*0.0254\n",
    "id = tank_id*0.0254\n",
    "ring_mass = 2.0*ring_circum_density*id\n",
    "weld_gap_mass = 2.0*density*weld_gap_length*(math.pi*((id/2.0 + t)**2-(id/2.0)**2))\n",
    "tank_wall_mass = density*grid_length*(math.pi*((id/2.0 + grid_t_bar)**2-(id/2.0)**2))\n",
    "\n",
    "tank_mass = ring_mass + weld_gap_mass + tank_wall_mass\n",
    "\n",
    "print('tank_mass:',tank_mass, 'kg')"
   ]
  },
  {
   "cell_type": "markdown",
   "metadata": {},
   "source": [
    "## Load Calculations\n"
   ]
  },
  {
   "cell_type": "markdown",
   "metadata": {},
   "source": [
    "\n",
    "### Combined Compression and Bending\n",
    "For the fuel tank, the cylinder is under compression and bending. Section 4.2 on page 4.2.001 (#97) covers this scenario. The example covers:\n",
    "* General Instability (N_cr_1)\n",
    "* Skin Buckling (N_cr_2)\n",
    "* Rib Crippling (N_cr_3)"
   ]
  },
  {
   "cell_type": "code",
   "execution_count": 19,
   "metadata": {
    "scrolled": true
   },
   "outputs": [
    {
     "name": "stdout",
     "output_type": "stream",
     "text": [
      "General Instability -  4.256277931192595 k/in 160.45789776325222 klbf\n",
      "Skin Buckling       -  5.660828842587181 k/in 213.4082196612132 klbf\n",
      "Rib Cripling        -  37.49020372037581 k/in 1413.3473830742084 klbf\n",
      "P_burst             -  410.8098621956765 psi\n",
      "P_MEOP              -  273.8732414637843 psi\n",
      "\n",
      "P_0                 -  167.1399785773593 psi\n",
      "P_burst > P_0\n",
      "Design is Burst Critical\n"
     ]
    }
   ],
   "source": [
    "import math\n",
    "\n",
    "# Inputs\n",
    "F = 1.573 # Klbf ~7000 N\n",
    "M = 0.265 # K in = 30 Nm\n",
    "\n",
    "# Material\n",
    "E_star_imp = E_imp*(1+alpha)**2.0/beta\n",
    "\n",
    "# Instability\n",
    "c0 = 0.397    # 4.2.005\n",
    "c1 = 10.2     # 4.2.006\n",
    "c2 = 0.616    # 4.2.008\n",
    "\n",
    "# Classical Value\n",
    "N_cl = (1/(3*(1-nu*nu))**0.5)*E_star_imp/1000*t_star*t_star/tank_r # k/in\n",
    "\n",
    "N_a = F/(2*math.pi*tank_r) # k/in\n",
    "N_b = M/(math.pi*tank_r**2) # k/in\n",
    "N_cr = N_a + N_b\n",
    "\n",
    "N_cr_1 = c0*E_imp*skin_t*skin_t/tank_r*beta\n",
    "N_cr_2 = c1*E_imp*skin_t*(1+alpha)*(skin_t*skin_t)/(pattern_size*pattern_size)\n",
    "N_cr_3 = c2*E_imp*skin_t*(1+alpha)*(rib_t*rib_t)/(rib_depth*rib_depth)\n",
    "\n",
    "p_burst = F_tu*1000*skin_t*(1+alpha)/tank_r\n",
    "p_meop = p_burst/1.5\n",
    "\n",
    "print('General Instability - ',N_cr_1,'k/in',N_cr_1*2*math.pi*tank_r,'klbf')\n",
    "print('Skin Buckling       - ',N_cr_2,'k/in',N_cr_2*2*math.pi*tank_r,'klbf')\n",
    "print('Rib Cripling        - ',N_cr_3,'k/in',N_cr_3*2*math.pi*tank_r,'klbf')\n",
    "\n",
    "print('P_burst             - ',p_burst,'psi')\n",
    "print('P_MEOP              - ',p_meop,'psi')\n",
    "\n",
    "\n",
    "# Determine if burst or compression critical\n",
    "# Fig 4.2.3 was reconstructed and curve fits were derived\n",
    "# See fig_4.2.3_reconstruction for details\n",
    "fig_x = N_cr/(E_imp*tank_r)*10**7\n",
    "p_0 = 1.134*(fig_x**0.595)*F_tu\n",
    "#t_m = 1.650*(fig_x**0.597)*tank_r\n",
    "print()\n",
    "print('P_0                 - ',p_0,'psi')\n",
    "if(p_burst > p_0):\n",
    "    print('P_burst > P_0\\nDesign is Burst Critical')\n",
    "else:\n",
    "    print('P_0 > P_burst\\nDesign is Compression Critical')"
   ]
  },
  {
   "cell_type": "markdown",
   "metadata": {},
   "source": [
    "## Stress Calcs\n",
    "x is the hoop coordinate, y is the longitudinal coordinate"
   ]
  },
  {
   "cell_type": "code",
   "execution_count": 11,
   "metadata": {},
   "outputs": [
    {
     "name": "stdout",
     "output_type": "stream",
     "text": [
      "Nx: 1643.239448782706 lbf/in\n",
      "Ny: 821.619724391353 lbf/in\n",
      "sigma_x: 29999.999999999996 psi\n",
      "sigma_y: 14999.999999999998 psi\n",
      "sigma_1: 24999.999999999996 psi\n",
      "sigma_2: 9999.999999999998 psi\n",
      "sigma_3: 9999.999999999998 psi\n"
     ]
    }
   ],
   "source": [
    "Nx = p_meop*tank_r\n",
    "Ny = p_meop*tank_r/2\n",
    "Nxy = 0.0\n",
    "\n",
    "sigma_x = Nx/t_eff\n",
    "sigma_y = Ny/t_eff\n",
    "\n",
    "sigma_1 = 1/(3*t_eff)*(3*Nx-Ny)\n",
    "sigma_2 = 2/(3*t_eff)*(Ny+3**0.5*Nxy)\n",
    "sigma_3 = 2/(3*t_eff)*(Ny-3**0.5*Nxy)\n",
    "\n",
    "print('Nx:',Nx,'lbf/in')\n",
    "print('Ny:',Ny,'lbf/in')\n",
    "print('sigma_x:',sigma_x,'psi')\n",
    "print('sigma_y:',sigma_y,'psi') \n",
    "print('sigma_1:',sigma_1,'psi')\n",
    "print('sigma_2:',sigma_2,'psi')\n",
    "print('sigma_3:',sigma_3,'psi')\n"
   ]
  },
  {
   "cell_type": "markdown",
   "metadata": {},
   "source": [
    "## Center Weld Strength and Safety Factor"
   ]
  },
  {
   "cell_type": "code",
   "execution_count": 12,
   "metadata": {},
   "outputs": [
    {
     "name": "stdout",
     "output_type": "stream",
     "text": [
      "weld area 9.42477796076938 in2\n",
      "Tensile force 254.46900494077323 klbf\n",
      "Center Weld Burst Pressure 1125.0 psi\n",
      "Center Weld Safety Factor 4.107739748458648\n"
     ]
    }
   ],
   "source": [
    "import math\n",
    "\n",
    "F_tu_welded = 27.0 # ksi\n",
    "F_su_welded = 15.0 # ksi - 4043/4047 Filler Rod\n",
    "#F_su_welded = 15.0 # ksi - 5554 Filler Rod\n",
    "\n",
    "center_weld_depth = 0.25\n",
    "area = math.pi*tank_od*center_weld_depth\n",
    "print('weld area',area,'in2')\n",
    "F_max_welded = F_tu_welded*area\n",
    "print('Tensile force',F_max_welded,'klbf')\n",
    "p_burst_center_weld = F_tu_welded*1000*center_weld_depth/tank_r\n",
    "print('Center Weld Burst Pressure',p_burst_center_weld,'psi')\n",
    "center_weld_safety_factor = p_burst_center_weld/p_meop\n",
    "print('Center Weld Safety Factor',center_weld_safety_factor)\n"
   ]
  },
  {
   "cell_type": "markdown",
   "metadata": {},
   "source": [
    "## End Cap Weld Strength and Safety Factor"
   ]
  },
  {
   "cell_type": "code",
   "execution_count": 13,
   "metadata": {},
   "outputs": [
    {
     "name": "stdout",
     "output_type": "stream",
     "text": [
      "Max Force on End Cap 141.37166941154067 klbf\n",
      "End Cap Weld Burst Pressure 1249.9999999999998 psi\n",
      "End Cap Weld Safety Factor 4.564155276065164\n"
     ]
    }
   ],
   "source": [
    "import math\n",
    "\n",
    "end_cap_weld_width = 0.25\n",
    "F_ec_max = F_su_welded*end_cap_weld_width*2*math.pi*tank_r\n",
    "print('Max Force on End Cap',F_ec_max,'klbf')\n",
    "p_burst_end_cap = F_ec_max*1000/(math.pi*tank_r**2)\n",
    "print('End Cap Weld Burst Pressure',p_burst_end_cap,'psi')\n",
    "ec_weld_safety_factor = p_burst_end_cap/p_meop\n",
    "print('End Cap Weld Safety Factor',ec_weld_safety_factor)\n"
   ]
  },
  {
   "cell_type": "markdown",
   "metadata": {},
   "source": [
    "## Thermal Expansion (Contraction)"
   ]
  },
  {
   "cell_type": "code",
   "execution_count": 14,
   "metadata": {},
   "outputs": [
    {
     "name": "stdout",
     "output_type": "stream",
     "text": [
      "-0.057252\n"
     ]
    }
   ],
   "source": [
    "cte = 13*10**-6 # in/in F\n",
    "dt = -297-70 # Room temperature to liquid oxygen temp\n",
    "delta_diameter = cte*tank_od*dt\n",
    "print(delta_diameter)"
   ]
  },
  {
   "cell_type": "code",
   "execution_count": null,
   "metadata": {},
   "outputs": [],
   "source": []
  }
 ],
 "metadata": {
  "kernelspec": {
   "display_name": "Python 3",
   "language": "python",
   "name": "python3"
  },
  "language_info": {
   "codemirror_mode": {
    "name": "ipython",
    "version": 3
   },
   "file_extension": ".py",
   "mimetype": "text/x-python",
   "name": "python",
   "nbconvert_exporter": "python",
   "pygments_lexer": "ipython3",
   "version": "3.7.4"
  }
 },
 "nbformat": 4,
 "nbformat_minor": 2
}
